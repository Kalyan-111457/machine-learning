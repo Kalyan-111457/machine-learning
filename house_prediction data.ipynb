{
 "cells": [
  {
   "cell_type": "code",
   "execution_count": 3,
   "id": "466ded54",
   "metadata": {},
   "outputs": [],
   "source": [
    "import pandas as pd\n",
    "import numpy as np\n",
    "import matplotlib.pyplot as plt\n",
    "from sklearn.preprocessing import LabelEncoder\n",
    "from sklearn.model_selection import train_test_split\n",
    "from sklearn.linear_model import LogisticRegression\n",
    "from sklearn.metrics import accuracy_score"
   ]
  },
  {
   "cell_type": "code",
   "execution_count": 5,
   "id": "524c3c2a",
   "metadata": {},
   "outputs": [
    {
     "name": "stdout",
     "output_type": "stream",
     "text": [
      "   bedrooms  bathrooms  area   price\n",
      "0         3          2  1800  250000\n",
      "1         4          3  2200  320000\n",
      "2         2          1  1500  180000\n",
      "3         3          2  1900  280000\n",
      "4         2          1  1300  150000\n"
     ]
    }
   ],
   "source": [
    "k=pd.read_csv(r\"C:\\Users\\kalyana raghava\\Desktop\\house_data.csv\")\n",
    "print(k)"
   ]
  },
  {
   "cell_type": "code",
   "execution_count": 6,
   "id": "0ad4313d",
   "metadata": {},
   "outputs": [
    {
     "name": "stdout",
     "output_type": "stream",
     "text": [
      "<class 'pandas.core.frame.DataFrame'>\n",
      "RangeIndex: 5 entries, 0 to 4\n",
      "Data columns (total 4 columns):\n",
      " #   Column     Non-Null Count  Dtype\n",
      "---  ------     --------------  -----\n",
      " 0   bedrooms   5 non-null      int64\n",
      " 1   bathrooms  5 non-null      int64\n",
      " 2   area       5 non-null      int64\n",
      " 3   price      5 non-null      int64\n",
      "dtypes: int64(4)\n",
      "memory usage: 288.0 bytes\n"
     ]
    }
   ],
   "source": [
    "k.info()"
   ]
  },
  {
   "cell_type": "code",
   "execution_count": 9,
   "id": "1dc4b6bb",
   "metadata": {},
   "outputs": [
    {
     "data": {
      "text/html": [
       "<div>\n",
       "<style scoped>\n",
       "    .dataframe tbody tr th:only-of-type {\n",
       "        vertical-align: middle;\n",
       "    }\n",
       "\n",
       "    .dataframe tbody tr th {\n",
       "        vertical-align: top;\n",
       "    }\n",
       "\n",
       "    .dataframe thead th {\n",
       "        text-align: right;\n",
       "    }\n",
       "</style>\n",
       "<table border=\"1\" class=\"dataframe\">\n",
       "  <thead>\n",
       "    <tr style=\"text-align: right;\">\n",
       "      <th></th>\n",
       "      <th>bedrooms</th>\n",
       "      <th>bathrooms</th>\n",
       "      <th>area</th>\n",
       "      <th>price</th>\n",
       "    </tr>\n",
       "  </thead>\n",
       "  <tbody>\n",
       "    <tr>\n",
       "      <th>0</th>\n",
       "      <td>False</td>\n",
       "      <td>False</td>\n",
       "      <td>False</td>\n",
       "      <td>False</td>\n",
       "    </tr>\n",
       "    <tr>\n",
       "      <th>1</th>\n",
       "      <td>False</td>\n",
       "      <td>False</td>\n",
       "      <td>False</td>\n",
       "      <td>False</td>\n",
       "    </tr>\n",
       "    <tr>\n",
       "      <th>2</th>\n",
       "      <td>False</td>\n",
       "      <td>False</td>\n",
       "      <td>False</td>\n",
       "      <td>False</td>\n",
       "    </tr>\n",
       "    <tr>\n",
       "      <th>3</th>\n",
       "      <td>False</td>\n",
       "      <td>False</td>\n",
       "      <td>False</td>\n",
       "      <td>False</td>\n",
       "    </tr>\n",
       "    <tr>\n",
       "      <th>4</th>\n",
       "      <td>False</td>\n",
       "      <td>False</td>\n",
       "      <td>False</td>\n",
       "      <td>False</td>\n",
       "    </tr>\n",
       "  </tbody>\n",
       "</table>\n",
       "</div>"
      ],
      "text/plain": [
       "   bedrooms  bathrooms   area  price\n",
       "0     False      False  False  False\n",
       "1     False      False  False  False\n",
       "2     False      False  False  False\n",
       "3     False      False  False  False\n",
       "4     False      False  False  False"
      ]
     },
     "execution_count": 9,
     "metadata": {},
     "output_type": "execute_result"
    }
   ],
   "source": [
    "# if there is a null values \n",
    "k.isnull()"
   ]
  },
  {
   "cell_type": "code",
   "execution_count": 11,
   "id": "192a1a94",
   "metadata": {},
   "outputs": [
    {
     "data": {
      "text/plain": [
       "bedrooms     0\n",
       "bathrooms    0\n",
       "area         0\n",
       "price        0\n",
       "dtype: int64"
      ]
     },
     "execution_count": 11,
     "metadata": {},
     "output_type": "execute_result"
    }
   ],
   "source": [
    "k.isnull().sum()"
   ]
  },
  {
   "cell_type": "code",
   "execution_count": 13,
   "id": "42eecbed",
   "metadata": {},
   "outputs": [],
   "source": [
    "label_encoder=LabelEncoder()\n",
    "k['price']=label_encoder.fit_transform(k['price'])"
   ]
  },
  {
   "cell_type": "code",
   "execution_count": 14,
   "id": "20e25806",
   "metadata": {},
   "outputs": [
    {
     "name": "stdout",
     "output_type": "stream",
     "text": [
      "   bedrooms  bathrooms  area  price\n",
      "0         3          2  1800      2\n",
      "1         4          3  2200      4\n",
      "2         2          1  1500      1\n",
      "3         3          2  1900      3\n",
      "4         2          1  1300      0\n"
     ]
    }
   ],
   "source": [
    "print(k)"
   ]
  },
  {
   "cell_type": "code",
   "execution_count": 15,
   "id": "bd11345c",
   "metadata": {},
   "outputs": [],
   "source": [
    "#now split the data into two parts\n",
    "#slected attributes are stored in x\n",
    "#target attribute are stored iny\n",
    "#based upon above example  x has bedrooms,bathrooms,area\n",
    "#and y  has price"
   ]
  },
  {
   "cell_type": "code",
   "execution_count": 17,
   "id": "9dcea14e",
   "metadata": {},
   "outputs": [
    {
     "name": "stdout",
     "output_type": "stream",
     "text": [
      "   bedrooms  bathrooms  area\n",
      "0         3          2  1800\n",
      "1         4          3  2200\n",
      "2         2          1  1500\n",
      "3         3          2  1900\n",
      "4         2          1  1300\n"
     ]
    }
   ],
   "source": [
    "x=k.drop('price',axis=1)\n",
    "print(x)"
   ]
  },
  {
   "cell_type": "code",
   "execution_count": 19,
   "id": "1ac0bb5b",
   "metadata": {},
   "outputs": [
    {
     "name": "stdout",
     "output_type": "stream",
     "text": [
      "0    2\n",
      "1    4\n",
      "2    1\n",
      "3    3\n",
      "4    0\n",
      "Name: price, dtype: int64\n"
     ]
    }
   ],
   "source": [
    "y=k['price']\n",
    "print(y)"
   ]
  },
  {
   "cell_type": "code",
   "execution_count": null,
   "id": "baab0cc6",
   "metadata": {},
   "outputs": [],
   "source": [
    "# now split the data of x into two parts x_train,x_test\n",
    "#smilarly y also split inti two parts y_train,y_test"
   ]
  },
  {
   "cell_type": "code",
   "execution_count": 20,
   "id": "97e8aae3",
   "metadata": {},
   "outputs": [],
   "source": [
    "x_train,x_test,y_train,y_test=train_test_split(x,y,test_size=0.2,random_state=42)"
   ]
  },
  {
   "cell_type": "code",
   "execution_count": 21,
   "id": "cfbb5b67",
   "metadata": {},
   "outputs": [
    {
     "name": "stdout",
     "output_type": "stream",
     "text": [
      "x data    bedrooms  bathrooms  area\n",
      "0         3          2  1800\n",
      "1         4          3  2200\n",
      "2         2          1  1500\n",
      "3         3          2  1900\n",
      "4         2          1  1300\n",
      "x_train data    bedrooms  bathrooms  area\n",
      "4         2          1  1300\n",
      "2         2          1  1500\n",
      "0         3          2  1800\n",
      "3         3          2  1900\n",
      "x_test data    bedrooms  bathrooms  area\n",
      "1         4          3  2200\n",
      "shape of x (5, 3)\n",
      "shape of x_train (4, 3)\n",
      "shape of x_test (1, 3)\n"
     ]
    }
   ],
   "source": [
    "print(\"x data\",x)\n",
    "print(\"x_train data\",x_train)\n",
    "print(\"x_test data\",x_test)\n",
    "print(\"shape of x\",x.shape)\n",
    "print(\"shape of x_train\",x_train.shape)\n",
    "print(\"shape of x_test\",x_test.shape)"
   ]
  },
  {
   "cell_type": "code",
   "execution_count": 22,
   "id": "2d5fdefc",
   "metadata": {},
   "outputs": [
    {
     "name": "stdout",
     "output_type": "stream",
     "text": [
      "y data 0    2\n",
      "1    4\n",
      "2    1\n",
      "3    3\n",
      "4    0\n",
      "Name: price, dtype: int64\n",
      "y_train data 4    0\n",
      "2    1\n",
      "0    2\n",
      "3    3\n",
      "Name: price, dtype: int64\n",
      "y_test data 1    4\n",
      "Name: price, dtype: int64\n",
      "shape of y (5,)\n",
      "shape of  y_train (4,)\n",
      "sahpe of y_test (1,)\n"
     ]
    }
   ],
   "source": [
    "#simliraly y also\n",
    "print(\"y data\",y)\n",
    "print(\"y_train data\",y_train)\n",
    "print(\"y_test data\",y_test)\n",
    "print(\"shape of y\",y.shape)\n",
    "print(\"shape of  y_train\",y_train.shape)\n",
    "print(\"sahpe of y_test\",y_test.shape)"
   ]
  },
  {
   "cell_type": "code",
   "execution_count": 25,
   "id": "6ce8bc25",
   "metadata": {},
   "outputs": [
    {
     "data": {
      "text/plain": [
       "LogisticRegression(max_iter=1000)"
      ]
     },
     "execution_count": 25,
     "metadata": {},
     "output_type": "execute_result"
    }
   ],
   "source": [
    "#now create  a model and accurate it\n",
    "model=LogisticRegression(max_iter=1000)\n",
    "model.fit(x_train,y_train)"
   ]
  },
  {
   "cell_type": "code",
   "execution_count": 27,
   "id": "b03eab66",
   "metadata": {},
   "outputs": [],
   "source": [
    "y_pred=model.predict(x_test)"
   ]
  },
  {
   "cell_type": "code",
   "execution_count": 28,
   "id": "100f8987",
   "metadata": {},
   "outputs": [
    {
     "name": "stdout",
     "output_type": "stream",
     "text": [
      "accuracy is  0.0\n"
     ]
    }
   ],
   "source": [
    "mse=accuracy_score(y_test,y_pred)\n",
    "print(\"accuracy is \",mse)"
   ]
  },
  {
   "cell_type": "code",
   "execution_count": null,
   "id": "ad0b81dc",
   "metadata": {},
   "outputs": [],
   "source": []
  }
 ],
 "metadata": {
  "kernelspec": {
   "display_name": "Python 3 (ipykernel)",
   "language": "python",
   "name": "python3"
  },
  "language_info": {
   "codemirror_mode": {
    "name": "ipython",
    "version": 3
   },
   "file_extension": ".py",
   "mimetype": "text/x-python",
   "name": "python",
   "nbconvert_exporter": "python",
   "pygments_lexer": "ipython3",
   "version": "3.9.13"
  }
 },
 "nbformat": 4,
 "nbformat_minor": 5
}
